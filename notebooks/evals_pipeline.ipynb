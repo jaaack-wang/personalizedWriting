{
 "cells": [
  {
   "cell_type": "code",
   "execution_count": 1,
   "id": "dfab6bd8",
   "metadata": {},
   "outputs": [
    {
     "data": {
      "text/html": [
       "<div>\n",
       "<style scoped>\n",
       "    .dataframe tbody tr th:only-of-type {\n",
       "        vertical-align: middle;\n",
       "    }\n",
       "\n",
       "    .dataframe tbody tr th {\n",
       "        vertical-align: top;\n",
       "    }\n",
       "\n",
       "    .dataframe thead th {\n",
       "        text-align: right;\n",
       "    }\n",
       "</style>\n",
       "<table border=\"1\" class=\"dataframe\">\n",
       "  <thead>\n",
       "    <tr style=\"text-align: right;\">\n",
       "      <th></th>\n",
       "      <th>dataset</th>\n",
       "      <th>author</th>\n",
       "      <th>text</th>\n",
       "      <th>topic</th>\n",
       "      <th>gender</th>\n",
       "      <th>age</th>\n",
       "      <th>sign</th>\n",
       "      <th>date</th>\n",
       "      <th>file_name</th>\n",
       "      <th>subject</th>\n",
       "      <th>index</th>\n",
       "      <th>subreddit</th>\n",
       "      <th>summary</th>\n",
       "      <th>Sample Indices</th>\n",
       "      <th>Prompt</th>\n",
       "      <th>openai/gpt-4.1-mini-2025-04-14-sample</th>\n",
       "    </tr>\n",
       "  </thead>\n",
       "  <tbody>\n",
       "    <tr>\n",
       "      <th>0</th>\n",
       "      <td>blog</td>\n",
       "      <td>15365</td>\n",
       "      <td>'Bathrooms, hallway corners, laundr...</td>\n",
       "      <td>indUnk</td>\n",
       "      <td>female</td>\n",
       "      <td>34.0</td>\n",
       "      <td>Cancer</td>\n",
       "      <td>28,July,2004</td>\n",
       "      <td>NaN</td>\n",
       "      <td>NaN</td>\n",
       "      <td>NaN</td>\n",
       "      <td>NaN</td>\n",
       "      <td>Choose accessible locations like bathrooms, ha...</td>\n",
       "      <td>4,1,2,0,3</td>\n",
       "      <td>You will be given one or more writing samples ...</td>\n",
       "      <td>Choosing the right spot for your kitten’s litt...</td>\n",
       "    </tr>\n",
       "    <tr>\n",
       "      <th>1</th>\n",
       "      <td>blog</td>\n",
       "      <td>15365</td>\n",
       "      <td>urlLink June 2003 Outlook from Moonsur...</td>\n",
       "      <td>indUnk</td>\n",
       "      <td>female</td>\n",
       "      <td>34.0</td>\n",
       "      <td>Cancer</td>\n",
       "      <td>07,June,2004</td>\n",
       "      <td>NaN</td>\n",
       "      <td>NaN</td>\n",
       "      <td>NaN</td>\n",
       "      <td>NaN</td>\n",
       "      <td>The Gemini New Moon on May 30th, 2003, marks a...</td>\n",
       "      <td>1,3,0,2,4</td>\n",
       "      <td>You will be given one or more writing samples ...</td>\n",
       "      <td>urlLink Cosmic Currents - Gemini New Moon Ushe...</td>\n",
       "    </tr>\n",
       "    <tr>\n",
       "      <th>2</th>\n",
       "      <td>blog</td>\n",
       "      <td>15365</td>\n",
       "      <td>urlLink SAGITTARIUS LUNAR CYCLE  by Cl...</td>\n",
       "      <td>indUnk</td>\n",
       "      <td>female</td>\n",
       "      <td>34.0</td>\n",
       "      <td>Cancer</td>\n",
       "      <td>07,June,2004</td>\n",
       "      <td>NaN</td>\n",
       "      <td>NaN</td>\n",
       "      <td>NaN</td>\n",
       "      <td>NaN</td>\n",
       "      <td>The Sagittarius lunar cycle, marked by a total...</td>\n",
       "      <td>2,4,0,3,1</td>\n",
       "      <td>You will be given one or more writing samples ...</td>\n",
       "      <td>The Sagittarius lunar cycle, illuminated by th...</td>\n",
       "    </tr>\n",
       "    <tr>\n",
       "      <th>3</th>\n",
       "      <td>blog</td>\n",
       "      <td>15365</td>\n",
       "      <td>The Beatles Title: Let It Be (Lennon, M...</td>\n",
       "      <td>indUnk</td>\n",
       "      <td>female</td>\n",
       "      <td>34.0</td>\n",
       "      <td>Cancer</td>\n",
       "      <td>12,October,2002</td>\n",
       "      <td>NaN</td>\n",
       "      <td>NaN</td>\n",
       "      <td>NaN</td>\n",
       "      <td>NaN</td>\n",
       "      <td>\"Let It Be\" by The Beatles is a song expressin...</td>\n",
       "      <td>0,2,4,1,3</td>\n",
       "      <td>You will be given one or more writing samples ...</td>\n",
       "      <td>urlLink Let It Be: Words of Comfort in Trouble...</td>\n",
       "    </tr>\n",
       "    <tr>\n",
       "      <th>4</th>\n",
       "      <td>blog</td>\n",
       "      <td>15365</td>\n",
       "      <td>THE MOON WAS STILL UP   Anger and pain I c...</td>\n",
       "      <td>indUnk</td>\n",
       "      <td>female</td>\n",
       "      <td>34.0</td>\n",
       "      <td>Cancer</td>\n",
       "      <td>14,September,2003</td>\n",
       "      <td>NaN</td>\n",
       "      <td>NaN</td>\n",
       "      <td>NaN</td>\n",
       "      <td>NaN</td>\n",
       "      <td>The text explores deep emotions of anger and p...</td>\n",
       "      <td>4,2,1,3,0</td>\n",
       "      <td>You will be given one or more writing samples ...</td>\n",
       "      <td>urlLink Beneath the Surface: The Unyielding Fl...</td>\n",
       "    </tr>\n",
       "    <tr>\n",
       "      <th>...</th>\n",
       "      <td>...</td>\n",
       "      <td>...</td>\n",
       "      <td>...</td>\n",
       "      <td>...</td>\n",
       "      <td>...</td>\n",
       "      <td>...</td>\n",
       "      <td>...</td>\n",
       "      <td>...</td>\n",
       "      <td>...</td>\n",
       "      <td>...</td>\n",
       "      <td>...</td>\n",
       "      <td>...</td>\n",
       "      <td>...</td>\n",
       "      <td>...</td>\n",
       "      <td>...</td>\n",
       "      <td>...</td>\n",
       "    </tr>\n",
       "    <tr>\n",
       "      <th>395</th>\n",
       "      <td>reddit</td>\n",
       "      <td>wonderfuldog</td>\n",
       "      <td>Occam's Razor]( \\n A guy is found  dead of a g...</td>\n",
       "      <td>NaN</td>\n",
       "      <td>NaN</td>\n",
       "      <td>NaN</td>\n",
       "      <td>NaN</td>\n",
       "      <td>NaN</td>\n",
       "      <td>NaN</td>\n",
       "      <td>NaN</td>\n",
       "      <td>446467.0</td>\n",
       "      <td>atheism</td>\n",
       "      <td>The text explains Occam's Razor by comparing t...</td>\n",
       "      <td>397,399,396,395,398</td>\n",
       "      <td>You will be given one or more writing samples ...</td>\n",
       "      <td>Occam's Razor is a principle that gets brought...</td>\n",
       "    </tr>\n",
       "    <tr>\n",
       "      <th>396</th>\n",
       "      <td>reddit</td>\n",
       "      <td>wonderfuldog</td>\n",
       "      <td>If we lived side-by-side with dinosaurs, don't...</td>\n",
       "      <td>NaN</td>\n",
       "      <td>NaN</td>\n",
       "      <td>NaN</td>\n",
       "      <td>NaN</td>\n",
       "      <td>NaN</td>\n",
       "      <td>NaN</td>\n",
       "      <td>NaN</td>\n",
       "      <td>849514.0</td>\n",
       "      <td>atheism</td>\n",
       "      <td>The text questions why, if humans lived alongs...</td>\n",
       "      <td>396,395,399,397,398</td>\n",
       "      <td>You will be given one or more writing samples ...</td>\n",
       "      <td>reposting]\\n\\nOne question that seems to get o...</td>\n",
       "    </tr>\n",
       "    <tr>\n",
       "      <th>397</th>\n",
       "      <td>reddit</td>\n",
       "      <td>wonderfuldog</td>\n",
       "      <td>it means different things to different people ...</td>\n",
       "      <td>NaN</td>\n",
       "      <td>NaN</td>\n",
       "      <td>NaN</td>\n",
       "      <td>NaN</td>\n",
       "      <td>NaN</td>\n",
       "      <td>NaN</td>\n",
       "      <td>NaN</td>\n",
       "      <td>1242640.0</td>\n",
       "      <td>atheism</td>\n",
       "      <td>The text emphasizes the importance of a shared...</td>\n",
       "      <td>398,399,396,395,397</td>\n",
       "      <td>You will be given one or more writing samples ...</td>\n",
       "      <td>Anyone who’s ever tried to have a serious conv...</td>\n",
       "    </tr>\n",
       "    <tr>\n",
       "      <th>398</th>\n",
       "      <td>reddit</td>\n",
       "      <td>wonderfuldog</td>\n",
       "      <td>Do you think there is any truth to people sayi...</td>\n",
       "      <td>NaN</td>\n",
       "      <td>NaN</td>\n",
       "      <td>NaN</td>\n",
       "      <td>NaN</td>\n",
       "      <td>NaN</td>\n",
       "      <td>NaN</td>\n",
       "      <td>NaN</td>\n",
       "      <td>609221.0</td>\n",
       "      <td>atheism</td>\n",
       "      <td>The text addresses the criticism that r/atheis...</td>\n",
       "      <td>397,399,395,398,396</td>\n",
       "      <td>You will be given one or more writing samples ...</td>\n",
       "      <td>reposting]  \\nWe get this criticism here fairl...</td>\n",
       "    </tr>\n",
       "    <tr>\n",
       "      <th>399</th>\n",
       "      <td>reddit</td>\n",
       "      <td>wonderfuldog</td>\n",
       "      <td>That quote is not cited in  the Wikipedia arti...</td>\n",
       "      <td>NaN</td>\n",
       "      <td>NaN</td>\n",
       "      <td>NaN</td>\n",
       "      <td>NaN</td>\n",
       "      <td>NaN</td>\n",
       "      <td>NaN</td>\n",
       "      <td>NaN</td>\n",
       "      <td>827870.0</td>\n",
       "      <td>atheism</td>\n",
       "      <td>An anonymous user with the IP address 70.89.19...</td>\n",
       "      <td>396,397,399,395,398</td>\n",
       "      <td>You will be given one or more writing samples ...</td>\n",
       "      <td>reposting]  \\nThere’s been some discussion abo...</td>\n",
       "    </tr>\n",
       "  </tbody>\n",
       "</table>\n",
       "<p>400 rows × 16 columns</p>\n",
       "</div>"
      ],
      "text/plain": [
       "    dataset        author                                               text  \\\n",
       "0      blog         15365             'Bathrooms, hallway corners, laundr...   \n",
       "1      blog         15365          urlLink June 2003 Outlook from Moonsur...   \n",
       "2      blog         15365          urlLink SAGITTARIUS LUNAR CYCLE  by Cl...   \n",
       "3      blog         15365         The Beatles Title: Let It Be (Lennon, M...   \n",
       "4      blog         15365      THE MOON WAS STILL UP   Anger and pain I c...   \n",
       "..      ...           ...                                                ...   \n",
       "395  reddit  wonderfuldog  Occam's Razor]( \\n A guy is found  dead of a g...   \n",
       "396  reddit  wonderfuldog  If we lived side-by-side with dinosaurs, don't...   \n",
       "397  reddit  wonderfuldog  it means different things to different people ...   \n",
       "398  reddit  wonderfuldog  Do you think there is any truth to people sayi...   \n",
       "399  reddit  wonderfuldog  That quote is not cited in  the Wikipedia arti...   \n",
       "\n",
       "      topic  gender   age    sign               date file_name subject  \\\n",
       "0    indUnk  female  34.0  Cancer       28,July,2004       NaN     NaN   \n",
       "1    indUnk  female  34.0  Cancer       07,June,2004       NaN     NaN   \n",
       "2    indUnk  female  34.0  Cancer       07,June,2004       NaN     NaN   \n",
       "3    indUnk  female  34.0  Cancer    12,October,2002       NaN     NaN   \n",
       "4    indUnk  female  34.0  Cancer  14,September,2003       NaN     NaN   \n",
       "..      ...     ...   ...     ...                ...       ...     ...   \n",
       "395     NaN     NaN   NaN     NaN                NaN       NaN     NaN   \n",
       "396     NaN     NaN   NaN     NaN                NaN       NaN     NaN   \n",
       "397     NaN     NaN   NaN     NaN                NaN       NaN     NaN   \n",
       "398     NaN     NaN   NaN     NaN                NaN       NaN     NaN   \n",
       "399     NaN     NaN   NaN     NaN                NaN       NaN     NaN   \n",
       "\n",
       "         index subreddit                                            summary  \\\n",
       "0          NaN       NaN  Choose accessible locations like bathrooms, ha...   \n",
       "1          NaN       NaN  The Gemini New Moon on May 30th, 2003, marks a...   \n",
       "2          NaN       NaN  The Sagittarius lunar cycle, marked by a total...   \n",
       "3          NaN       NaN  \"Let It Be\" by The Beatles is a song expressin...   \n",
       "4          NaN       NaN  The text explores deep emotions of anger and p...   \n",
       "..         ...       ...                                                ...   \n",
       "395   446467.0   atheism  The text explains Occam's Razor by comparing t...   \n",
       "396   849514.0   atheism  The text questions why, if humans lived alongs...   \n",
       "397  1242640.0   atheism  The text emphasizes the importance of a shared...   \n",
       "398   609221.0   atheism  The text addresses the criticism that r/atheis...   \n",
       "399   827870.0   atheism  An anonymous user with the IP address 70.89.19...   \n",
       "\n",
       "          Sample Indices                                             Prompt  \\\n",
       "0              4,1,2,0,3  You will be given one or more writing samples ...   \n",
       "1              1,3,0,2,4  You will be given one or more writing samples ...   \n",
       "2              2,4,0,3,1  You will be given one or more writing samples ...   \n",
       "3              0,2,4,1,3  You will be given one or more writing samples ...   \n",
       "4              4,2,1,3,0  You will be given one or more writing samples ...   \n",
       "..                   ...                                                ...   \n",
       "395  397,399,396,395,398  You will be given one or more writing samples ...   \n",
       "396  396,395,399,397,398  You will be given one or more writing samples ...   \n",
       "397  398,399,396,395,397  You will be given one or more writing samples ...   \n",
       "398  397,399,395,398,396  You will be given one or more writing samples ...   \n",
       "399  396,397,399,395,398  You will be given one or more writing samples ...   \n",
       "\n",
       "                 openai/gpt-4.1-mini-2025-04-14-sample  \n",
       "0    Choosing the right spot for your kitten’s litt...  \n",
       "1    urlLink Cosmic Currents - Gemini New Moon Ushe...  \n",
       "2    The Sagittarius lunar cycle, illuminated by th...  \n",
       "3    urlLink Let It Be: Words of Comfort in Trouble...  \n",
       "4    urlLink Beneath the Surface: The Unyielding Fl...  \n",
       "..                                                 ...  \n",
       "395  Occam's Razor is a principle that gets brought...  \n",
       "396  reposting]\\n\\nOne question that seems to get o...  \n",
       "397  Anyone who’s ever tried to have a serious conv...  \n",
       "398  reposting]  \\nWe get this criticism here fairl...  \n",
       "399  reposting]  \\nThere’s been some discussion abo...  \n",
       "\n",
       "[400 rows x 16 columns]"
      ]
     },
     "execution_count": 1,
     "metadata": {},
     "output_type": "execute_result"
    }
   ],
   "source": [
    "import pandas as pd\n",
    "\n",
    "\n",
    "df = pd.read_csv(\"../dataset_prepare/toy_test_with_summaries_and_mimicked_writings.csv\")\n",
    "df"
   ]
  },
  {
   "cell_type": "code",
   "execution_count": 2,
   "id": "29b52a8f",
   "metadata": {},
   "outputs": [
    {
     "data": {
      "text/plain": [
       "Index(['dataset', 'author', 'text', 'topic', 'gender', 'age', 'sign', 'date',\n",
       "       'file_name', 'subject', 'index', 'subreddit', 'summary',\n",
       "       'Sample Indices', 'Prompt', 'openai/gpt-4.1-mini-2025-04-14-sample'],\n",
       "      dtype='object')"
      ]
     },
     "execution_count": 2,
     "metadata": {},
     "output_type": "execute_result"
    }
   ],
   "source": [
    "df.columns"
   ]
  },
  {
   "cell_type": "code",
   "execution_count": 3,
   "id": "b0cf9b49",
   "metadata": {},
   "outputs": [
    {
     "data": {
      "text/plain": [
       "array(['blog', 'CCAT50', 'enron', 'reddit'], dtype=object)"
      ]
     },
     "execution_count": 3,
     "metadata": {},
     "output_type": "execute_result"
    }
   ],
   "source": [
    "df.dataset.unique()"
   ]
  },
  {
   "cell_type": "code",
   "execution_count": 4,
   "id": "0f0d54db",
   "metadata": {},
   "outputs": [
    {
     "data": {
      "text/plain": [
       "((100, 17), (100, 17), (100, 17), (100, 17))"
      ]
     },
     "execution_count": 4,
     "metadata": {},
     "output_type": "execute_result"
    }
   ],
   "source": [
    "blog = df.copy()[df[\"dataset\"] == \"blog\"].reset_index()\n",
    "CCAT50 = df.copy()[df[\"dataset\"] == \"CCAT50\"].reset_index()\n",
    "enron = df.copy()[df[\"dataset\"] == \"enron\"].reset_index()\n",
    "reddit = df.copy()[df[\"dataset\"] == \"reddit\"].reset_index()\n",
    "blog.shape, CCAT50.shape, enron.shape, reddit.shape"
   ]
  },
  {
   "cell_type": "code",
   "execution_count": 11,
   "id": "d67e16ea",
   "metadata": {},
   "outputs": [],
   "source": [
    "import torch\n",
    "from torch.utils.data import Dataset\n",
    "from transformers import AutoTokenizer\n",
    "from sklearn.metrics import classification_report\n",
    "from transformers import Trainer, AutoModelForSequenceClassification\n",
    "\n",
    "\n",
    "model_name = \"allenai/longformer-base-4096\"\n",
    "tokenizer = AutoTokenizer.from_pretrained(model_name)\n",
    "\n",
    "def get_text_encodings(df, text_col=\"text\", \n",
    "                       LLM_col=\"openai/gpt-4.1-mini-2025-04-14-sample\"):\n",
    "    return tokenizer(list(df[text_col]), list(df[LLM_col]), \n",
    "                     truncation=True, padding=\"max_length\", max_length=2048)\n",
    "\n",
    "\n",
    "class CustomDataset(Dataset):\n",
    "    def __init__(self, encodings, labels):\n",
    "        self.encodings = encodings\n",
    "        self.labels = labels\n",
    "\n",
    "    def __getitem__(self, idx):\n",
    "        item = {key: torch.tensor(val[idx]) for key, val in self.encodings.items()}\n",
    "        item['labels'] = torch.tensor(self.labels[idx])\n",
    "        return item\n",
    "\n",
    "    def __len__(self):\n",
    "        return len(self.labels)\n",
    "\n",
    "\n",
    "def get_dataset(df, text1_col=\"text\", \n",
    "                text2_col=\"openai/gpt-4.1-mini-2025-04-14-sample\", \n",
    "                labels_col=None):\n",
    "    \n",
    "    encodings = get_text_encodings(df, text1_col, text2_col)\n",
    "\n",
    "    if labels_col is None:\n",
    "        labels = [0] * len(encodings.input_ids)\n",
    "    else:\n",
    "        labels = df[labels_col].tolist()\n",
    "\n",
    "    dataset = CustomDataset(encodings, labels)\n",
    "    return dataset\n",
    "\n",
    "\n",
    "def get_model_and_trainer(model_load_file):\n",
    "    model = AutoModelForSequenceClassification.from_pretrained(model_load_file)\n",
    "    trainer = Trainer(\n",
    "        model=model,\n",
    "    )\n",
    "    return model, trainer\n",
    "\n",
    "\n",
    "def print_classification_report(y_test, y_pred):\n",
    "    print(classification_report(y_test, y_pred, zero_division=0))\n",
    "\n",
    "\n",
    "def print_eval_report(trainer, test_dataset):\n",
    "    predictions = trainer.predict(test_dataset)\n",
    "    y_pred = predictions.predictions.argmax(-1)\n",
    "    y_test = [0] * len(test_dataset.labels)\n",
    "    print_classification_report(y_test, y_pred)"
   ]
  },
  {
   "cell_type": "markdown",
   "id": "0e1dfa90",
   "metadata": {},
   "source": [
    "### Blog\n",
    "\n",
    "              precision    recall  f1-score   support\n",
    "\n",
    "           0       0.86      0.94      0.90     12000\n",
    "           1       0.89      0.78      0.83      8000\n",
    "\n",
    "    accuracy                           0.87     20000\n",
    "   macro avg       0.88      0.86      0.86     20000\n",
    "weighted avg       0.87      0.87      0.87     20000"
   ]
  },
  {
   "cell_type": "code",
   "execution_count": 15,
   "id": "7c0e26d5",
   "metadata": {},
   "outputs": [
    {
     "name": "stdout",
     "output_type": "stream",
     "text": [
      "              precision    recall  f1-score   support\n",
      "\n",
      "           0       0.86      0.94      0.90     12000\n",
      "           1       0.89      0.78      0.83      8000\n",
      "\n",
      "    accuracy                           0.87     20000\n",
      "   macro avg       0.88      0.86      0.86     20000\n",
      "weighted avg       0.87      0.87      0.87     20000\n",
      "\n"
     ]
    }
   ],
   "source": [
    "test_results = pd.read_csv(\"../dataset_prepare/blog_AV_datasets/test_results.csv\")\n",
    "print(classification_report(test_results[\"label\"], test_results[\"prediction\"], zero_division=0))"
   ]
  },
  {
   "cell_type": "code",
   "execution_count": null,
   "id": "b7f12cac",
   "metadata": {},
   "outputs": [],
   "source": []
  },
  {
   "cell_type": "code",
   "execution_count": 12,
   "id": "db46f085",
   "metadata": {},
   "outputs": [
    {
     "name": "stderr",
     "output_type": "stream",
     "text": [
      "Initializing global attention on CLS token...\n"
     ]
    },
    {
     "data": {
      "text/html": [],
      "text/plain": [
       "<IPython.core.display.HTML object>"
      ]
     },
     "metadata": {},
     "output_type": "display_data"
    },
    {
     "name": "stdout",
     "output_type": "stream",
     "text": [
      "              precision    recall  f1-score   support\n",
      "\n",
      "           0       1.00      0.65      0.79     20000\n",
      "           1       0.00      0.00      0.00         0\n",
      "\n",
      "    accuracy                           0.65     20000\n",
      "   macro avg       0.50      0.33      0.39     20000\n",
      "weighted avg       1.00      0.65      0.79     20000\n",
      "\n",
      "Blog dataset evaluation:\n"
     ]
    },
    {
     "data": {
      "text/html": [],
      "text/plain": [
       "<IPython.core.display.HTML object>"
      ]
     },
     "metadata": {},
     "output_type": "display_data"
    },
    {
     "name": "stdout",
     "output_type": "stream",
     "text": [
      "              precision    recall  f1-score   support\n",
      "\n",
      "           0       1.00      0.15      0.26       100\n",
      "           1       0.00      0.00      0.00         0\n",
      "\n",
      "    accuracy                           0.15       100\n",
      "   macro avg       0.50      0.07      0.13       100\n",
      "weighted avg       1.00      0.15      0.26       100\n",
      "\n"
     ]
    }
   ],
   "source": [
    "blog_dataset = get_dataset(blog)\n",
    "b_test = pd.read_csv(\"../dataset_prepare/blog_AV_datasets/test.csv\")\n",
    "blog_dataset_test = get_dataset(pd.read_csv(\"../dataset_prepare/blog_AV_datasets/test.csv\"), \"text1\", \"text2\", \"label\")\n",
    "\n",
    "blog_model_load_file = \"../AV_models/longformer-base-4096/blog_AV_datasets/checkpoint-10000\"\n",
    "blog_model, blog_trainer = get_model_and_trainer(blog_model_load_file)\n",
    "\n",
    "print_eval_report(blog_trainer, blog_dataset_test)\n",
    "\n",
    "print(\"Blog dataset evaluation:\")\n",
    "\n",
    "print_eval_report(blog_trainer, blog_dataset)"
   ]
  },
  {
   "cell_type": "code",
   "execution_count": null,
   "id": "5bdaefb5",
   "metadata": {},
   "outputs": [],
   "source": []
  },
  {
   "cell_type": "code",
   "execution_count": 17,
   "id": "657626fd",
   "metadata": {},
   "outputs": [
    {
     "data": {
      "text/html": [],
      "text/plain": [
       "<IPython.core.display.HTML object>"
      ]
     },
     "metadata": {},
     "output_type": "display_data"
    },
    {
     "name": "stdout",
     "output_type": "stream",
     "text": [
      "              precision    recall  f1-score   support\n",
      "\n",
      "           0       1.00      0.65      0.79     20000\n",
      "           1       0.00      0.00      0.00         0\n",
      "\n",
      "    accuracy                           0.65     20000\n",
      "   macro avg       0.50      0.33      0.39     20000\n",
      "weighted avg       1.00      0.65      0.79     20000\n",
      "\n",
      "CCAT50 dataset evaluation:\n"
     ]
    },
    {
     "data": {
      "text/html": [],
      "text/plain": [
       "<IPython.core.display.HTML object>"
      ]
     },
     "metadata": {},
     "output_type": "display_data"
    },
    {
     "name": "stdout",
     "output_type": "stream",
     "text": [
      "              precision    recall  f1-score   support\n",
      "\n",
      "           0       1.00      0.07      0.13       100\n",
      "           1       0.00      0.00      0.00         0\n",
      "\n",
      "    accuracy                           0.07       100\n",
      "   macro avg       0.50      0.04      0.07       100\n",
      "weighted avg       1.00      0.07      0.13       100\n",
      "\n"
     ]
    }
   ],
   "source": [
    "CCAT50_dataset = get_dataset(CCAT50)\n",
    "c_test = pd.read_csv(\"../dataset_prepare/CCAT50_AV_datasets/test.csv\")\n",
    "CCAT50_dataset_test = get_dataset(pd.read_csv(\"../dataset_prepare/CCAT50_AV_datasets/test.csv\"), \"text1\", \"text2\", \"label\")\n",
    "CCAT50_model_load_file = \"../AV_models/longformer-base-4096/CCAT50_AV_datasets/checkpoint-5000\"\n",
    "CCAT50_model, CCAT50_trainer = get_model_and_trainer(CCAT50_model_load_file)\n",
    "\n",
    "print_eval_report(CCAT50_trainer, CCAT50_dataset_test)\n",
    "print(\"CCAT50 dataset evaluation:\")\n",
    "print_eval_report(CCAT50_trainer, CCAT50_dataset)"
   ]
  },
  {
   "cell_type": "code",
   "execution_count": 18,
   "id": "fa41dba2",
   "metadata": {},
   "outputs": [
    {
     "data": {
      "text/html": [
       "\n",
       "    <div>\n",
       "      \n",
       "      <progress value='57' max='2500' style='width:300px; height:20px; vertical-align: middle;'></progress>\n",
       "      [  57/2500 00:23 < 17:11, 2.37 it/s]\n",
       "    </div>\n",
       "    "
      ],
      "text/plain": [
       "<IPython.core.display.HTML object>"
      ]
     },
     "metadata": {},
     "output_type": "display_data"
    },
    {
     "name": "stdout",
     "output_type": "stream",
     "text": [
      "              precision    recall  f1-score   support\n",
      "\n",
      "           0       1.00      0.64      0.78     20000\n",
      "           1       0.00      0.00      0.00         0\n",
      "\n",
      "    accuracy                           0.64     20000\n",
      "   macro avg       0.50      0.32      0.39     20000\n",
      "weighted avg       1.00      0.64      0.78     20000\n",
      "\n",
      "Enron dataset evaluation:\n"
     ]
    },
    {
     "data": {
      "text/html": [],
      "text/plain": [
       "<IPython.core.display.HTML object>"
      ]
     },
     "metadata": {},
     "output_type": "display_data"
    },
    {
     "name": "stdout",
     "output_type": "stream",
     "text": [
      "              precision    recall  f1-score   support\n",
      "\n",
      "           0       1.00      0.13      0.23       100\n",
      "           1       0.00      0.00      0.00         0\n",
      "\n",
      "    accuracy                           0.13       100\n",
      "   macro avg       0.50      0.07      0.12       100\n",
      "weighted avg       1.00      0.13      0.23       100\n",
      "\n"
     ]
    }
   ],
   "source": [
    "enron_dataset = get_dataset(enron)\n",
    "e_test = pd.read_csv(\"../dataset_prepare/enron_AV_datasets/test.csv\")\n",
    "enron_dataset_test = get_dataset(pd.read_csv(\"../dataset_prepare/enron_AV_datasets/test.csv\"), \"text1\", \"text2\", \"label\")\n",
    "enron_model_load_file = \"../AV_models/longformer-base-4096/enron_AV_datasets/checkpoint-5000\"\n",
    "enron_model, enron_trainer = get_model_and_trainer(enron_model_load_file)\n",
    "\n",
    "print_eval_report(enron_trainer, enron_dataset_test)\n",
    "print(\"Enron dataset evaluation:\")\n",
    "print_eval_report(enron_trainer, enron_dataset)"
   ]
  },
  {
   "cell_type": "code",
   "execution_count": 20,
   "id": "5e712d60",
   "metadata": {},
   "outputs": [
    {
     "data": {
      "text/html": [],
      "text/plain": [
       "<IPython.core.display.HTML object>"
      ]
     },
     "metadata": {},
     "output_type": "display_data"
    },
    {
     "name": "stdout",
     "output_type": "stream",
     "text": [
      "              precision    recall  f1-score   support\n",
      "\n",
      "           0       1.00      0.67      0.80     20000\n",
      "           1       0.00      0.00      0.00         0\n",
      "\n",
      "    accuracy                           0.67     20000\n",
      "   macro avg       0.50      0.33      0.40     20000\n",
      "weighted avg       1.00      0.67      0.80     20000\n",
      "\n",
      "Reddit dataset evaluation:\n"
     ]
    },
    {
     "data": {
      "text/html": [],
      "text/plain": [
       "<IPython.core.display.HTML object>"
      ]
     },
     "metadata": {},
     "output_type": "display_data"
    },
    {
     "name": "stdout",
     "output_type": "stream",
     "text": [
      "              precision    recall  f1-score   support\n",
      "\n",
      "           0       1.00      0.37      0.54       100\n",
      "           1       0.00      0.00      0.00         0\n",
      "\n",
      "    accuracy                           0.37       100\n",
      "   macro avg       0.50      0.18      0.27       100\n",
      "weighted avg       1.00      0.37      0.54       100\n",
      "\n"
     ]
    }
   ],
   "source": [
    "reddit_dataset = get_dataset(reddit)\n",
    "r_test = pd.read_csv(\"../dataset_prepare/reddit_AV_datasets/test.csv\")\n",
    "reddit_dataset_test = get_dataset(pd.read_csv(\"../dataset_prepare/reddit_AV_datasets/test.csv\"), \"text1\", \"text2\", \"label\")\n",
    "\n",
    "reddit_model_load_file = \"../AV_models/longformer-base-4096/reddit_AV_datasets/checkpoint-5000\"\n",
    "reddit_model, reddit_trainer = get_model_and_trainer(reddit_model_load_file)\n",
    "\n",
    "print_eval_report(reddit_trainer, reddit_dataset_test)\n",
    "print(\"Reddit dataset evaluation:\")\n",
    "print_eval_report(reddit_trainer, reddit_dataset)"
   ]
  },
  {
   "cell_type": "code",
   "execution_count": null,
   "id": "70b2cbed",
   "metadata": {},
   "outputs": [],
   "source": []
  },
  {
   "cell_type": "code",
   "execution_count": null,
   "id": "791bfd23",
   "metadata": {},
   "outputs": [],
   "source": []
  }
 ],
 "metadata": {
  "kernelspec": {
   "display_name": "PW",
   "language": "python",
   "name": "python3"
  },
  "language_info": {
   "codemirror_mode": {
    "name": "ipython",
    "version": 3
   },
   "file_extension": ".py",
   "mimetype": "text/x-python",
   "name": "python",
   "nbconvert_exporter": "python",
   "pygments_lexer": "ipython3",
   "version": "3.12.9"
  }
 },
 "nbformat": 4,
 "nbformat_minor": 5
}
