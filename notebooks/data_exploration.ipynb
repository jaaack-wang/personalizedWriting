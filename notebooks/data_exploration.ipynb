{
 "cells": [
  {
   "cell_type": "code",
   "execution_count": 1,
   "id": "1719f8da",
   "metadata": {},
   "outputs": [],
   "source": [
    "import pandas as pd\n",
    "\n",
    "\n",
    "df1 = pd.read_csv(\"../dataset_prepare/blog_train.csv\")\n",
    "df2 = pd.read_csv(\"../dataset_prepare/CCAT50_train.csv\")\n",
    "df3 = pd.read_csv(\"../dataset_prepare/enron_train.csv\")\n",
    "df4 = pd.read_csv(\"../dataset_prepare/reddit_train.csv\")"
   ]
  },
  {
   "cell_type": "code",
   "execution_count": 2,
   "id": "3cd594ab",
   "metadata": {},
   "outputs": [
    {
     "data": {
      "text/plain": [
       "(Index(['author', 'text', 'topic', 'gender', 'age', 'sign', 'date'], dtype='object'),\n",
       " Index(['author', 'text', 'file_name'], dtype='object'),\n",
       " Index(['author', 'text', 'subject'], dtype='object'),\n",
       " Index(['index', 'author', 'text', 'subreddit'], dtype='object'))"
      ]
     },
     "execution_count": 2,
     "metadata": {},
     "output_type": "execute_result"
    }
   ],
   "source": [
    "df1.columns, df2.columns, df3.columns, df4.columns"
   ]
  },
  {
   "cell_type": "code",
   "execution_count": 3,
   "id": "261af9f6",
   "metadata": {},
   "outputs": [
    {
     "data": {
      "text/plain": [
       "(176568, 7500, 11649, 33804)"
      ]
     },
     "execution_count": 3,
     "metadata": {},
     "output_type": "execute_result"
    }
   ],
   "source": [
    "df1.size, df2.size, df3.size, df4.size"
   ]
  },
  {
   "cell_type": "code",
   "execution_count": null,
   "id": "073913c1",
   "metadata": {},
   "outputs": [],
   "source": []
  },
  {
   "cell_type": "code",
   "execution_count": null,
   "id": "ddfdcfce",
   "metadata": {},
   "outputs": [],
   "source": []
  }
 ],
 "metadata": {
  "kernelspec": {
   "display_name": "PW",
   "language": "python",
   "name": "python3"
  },
  "language_info": {
   "codemirror_mode": {
    "name": "ipython",
    "version": 3
   },
   "file_extension": ".py",
   "mimetype": "text/x-python",
   "name": "python",
   "nbconvert_exporter": "python",
   "pygments_lexer": "ipython3",
   "version": "3.12.9"
  }
 },
 "nbformat": 4,
 "nbformat_minor": 5
}
