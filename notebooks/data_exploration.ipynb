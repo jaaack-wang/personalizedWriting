{
 "cells": [
  {
   "cell_type": "code",
   "execution_count": 1,
   "id": "1719f8da",
   "metadata": {},
   "outputs": [],
   "source": [
    "import pandas as pd\n",
    "\n",
    "\n",
    "df1 = pd.read_csv(\"../dataset_prepare/blog_train.csv\")\n",
    "df2 = pd.read_csv(\"../dataset_prepare/CCAT50_train.csv\")\n",
    "df3 = pd.read_csv(\"../dataset_prepare/enron_train.csv\")\n",
    "df4 = pd.read_csv(\"../dataset_prepare/reddit_train.csv\")"
   ]
  },
  {
   "cell_type": "code",
   "execution_count": 5,
   "id": "3f7b7c1f",
   "metadata": {},
   "outputs": [
    {
     "data": {
      "text/html": [
       "<div>\n",
       "<style scoped>\n",
       "    .dataframe tbody tr th:only-of-type {\n",
       "        vertical-align: middle;\n",
       "    }\n",
       "\n",
       "    .dataframe tbody tr th {\n",
       "        vertical-align: top;\n",
       "    }\n",
       "\n",
       "    .dataframe thead th {\n",
       "        text-align: right;\n",
       "    }\n",
       "</style>\n",
       "<table border=\"1\" class=\"dataframe\">\n",
       "  <thead>\n",
       "    <tr style=\"text-align: right;\">\n",
       "      <th></th>\n",
       "      <th>author</th>\n",
       "      <th>text</th>\n",
       "      <th>topic</th>\n",
       "      <th>gender</th>\n",
       "      <th>age</th>\n",
       "      <th>sign</th>\n",
       "      <th>date</th>\n",
       "    </tr>\n",
       "  </thead>\n",
       "  <tbody>\n",
       "    <tr>\n",
       "      <th>0</th>\n",
       "      <td>3211137</td>\n",
       "      <td>Joan Girardi has one. Rory Gilmore has ...</td>\n",
       "      <td>indUnk</td>\n",
       "      <td>male</td>\n",
       "      <td>16</td>\n",
       "      <td>Sagittarius</td>\n",
       "      <td>11,January,2004</td>\n",
       "    </tr>\n",
       "    <tr>\n",
       "      <th>1</th>\n",
       "      <td>1013637</td>\n",
       "      <td>Aloha, and bongiorno to all of yo...</td>\n",
       "      <td>RealEstate</td>\n",
       "      <td>male</td>\n",
       "      <td>17</td>\n",
       "      <td>Virgo</td>\n",
       "      <td>11,February,2003</td>\n",
       "    </tr>\n",
       "    <tr>\n",
       "      <th>2</th>\n",
       "      <td>1078410</td>\n",
       "      <td>well I am now a bit interested in t...</td>\n",
       "      <td>indUnk</td>\n",
       "      <td>male</td>\n",
       "      <td>16</td>\n",
       "      <td>Cancer</td>\n",
       "      <td>30,July,2003</td>\n",
       "    </tr>\n",
       "    <tr>\n",
       "      <th>3</th>\n",
       "      <td>1169141</td>\n",
       "      <td>Long post through a migraine.... ...</td>\n",
       "      <td>Arts</td>\n",
       "      <td>male</td>\n",
       "      <td>33</td>\n",
       "      <td>Capricorn</td>\n",
       "      <td>05,February,2004</td>\n",
       "    </tr>\n",
       "    <tr>\n",
       "      <th>4</th>\n",
       "      <td>1951423</td>\n",
       "      <td>thought i had better throw another fema...</td>\n",
       "      <td>Arts</td>\n",
       "      <td>female</td>\n",
       "      <td>24</td>\n",
       "      <td>Scorpio</td>\n",
       "      <td>18,October,2003</td>\n",
       "    </tr>\n",
       "  </tbody>\n",
       "</table>\n",
       "</div>"
      ],
      "text/plain": [
       "    author                                               text       topic  \\\n",
       "0  3211137         Joan Girardi has one. Rory Gilmore has ...      indUnk   \n",
       "1  1013637               Aloha, and bongiorno to all of yo...  RealEstate   \n",
       "2  1078410             well I am now a bit interested in t...      indUnk   \n",
       "3  1169141               Long post through a migraine.... ...        Arts   \n",
       "4  1951423         thought i had better throw another fema...        Arts   \n",
       "\n",
       "   gender  age         sign              date  \n",
       "0    male   16  Sagittarius   11,January,2004  \n",
       "1    male   17        Virgo  11,February,2003  \n",
       "2    male   16       Cancer      30,July,2003  \n",
       "3    male   33    Capricorn  05,February,2004  \n",
       "4  female   24      Scorpio   18,October,2003  "
      ]
     },
     "execution_count": 5,
     "metadata": {},
     "output_type": "execute_result"
    }
   ],
   "source": [
    "df1.head()"
   ]
  },
  {
   "cell_type": "code",
   "execution_count": 2,
   "id": "3cd594ab",
   "metadata": {},
   "outputs": [
    {
     "data": {
      "text/plain": [
       "(Index(['author', 'text', 'topic', 'gender', 'age', 'sign', 'date'], dtype='object'),\n",
       " Index(['author', 'text', 'file_name'], dtype='object'),\n",
       " Index(['author', 'text', 'subject'], dtype='object'),\n",
       " Index(['index', 'author', 'text', 'subreddit'], dtype='object'))"
      ]
     },
     "execution_count": 2,
     "metadata": {},
     "output_type": "execute_result"
    }
   ],
   "source": [
    "df1.columns, df2.columns, df3.columns, df4.columns"
   ]
  },
  {
   "cell_type": "code",
   "execution_count": 3,
   "id": "261af9f6",
   "metadata": {},
   "outputs": [
    {
     "data": {
      "text/plain": [
       "((25224, 7), (2500, 3), (3883, 3), (8451, 4))"
      ]
     },
     "execution_count": 3,
     "metadata": {},
     "output_type": "execute_result"
    }
   ],
   "source": [
    "df1.shape, df2.shape, df3.shape, df4.shape"
   ]
  },
  {
   "cell_type": "code",
   "execution_count": 4,
   "id": "9290f82e",
   "metadata": {},
   "outputs": [
    {
     "data": {
      "text/plain": [
       "(100, 50, 150, 100)"
      ]
     },
     "execution_count": 4,
     "metadata": {},
     "output_type": "execute_result"
    }
   ],
   "source": [
    "df1.author.unique().size, df2.author.unique().size, df3.author.unique().size, df4.author.unique().size"
   ]
  },
  {
   "cell_type": "code",
   "execution_count": null,
   "id": "f13b4f19",
   "metadata": {},
   "outputs": [],
   "source": []
  },
  {
   "cell_type": "code",
   "execution_count": 4,
   "id": "073913c1",
   "metadata": {},
   "outputs": [],
   "source": [
    "df1_test = pd.read_csv(\"../dataset_prepare/blog_test.csv\")\n",
    "df2_test = pd.read_csv(\"../dataset_prepare/CCAT50_test.csv\")\n",
    "df3_test = pd.read_csv(\"../dataset_prepare/enron_test.csv\")\n",
    "df4_test = pd.read_csv(\"../dataset_prepare/reddit_test.csv\")"
   ]
  },
  {
   "cell_type": "code",
   "execution_count": 5,
   "id": "045252ab",
   "metadata": {},
   "outputs": [
    {
     "data": {
      "text/plain": [
       "(Index(['author', 'text', 'topic', 'gender', 'age', 'sign', 'date'], dtype='object'),\n",
       " Index(['author', 'text', 'file_name'], dtype='object'),\n",
       " Index(['author', 'text', 'subject'], dtype='object'),\n",
       " Index(['index', 'author', 'text', 'subreddit'], dtype='object'))"
      ]
     },
     "execution_count": 5,
     "metadata": {},
     "output_type": "execute_result"
    }
   ],
   "source": [
    "df1_test.columns, df2_test.columns, df3_test.columns, df4_test.columns"
   ]
  },
  {
   "cell_type": "code",
   "execution_count": null,
   "id": "ddfdcfce",
   "metadata": {},
   "outputs": [],
   "source": []
  }
 ],
 "metadata": {
  "kernelspec": {
   "display_name": "PW",
   "language": "python",
   "name": "python3"
  },
  "language_info": {
   "codemirror_mode": {
    "name": "ipython",
    "version": 3
   },
   "file_extension": ".py",
   "mimetype": "text/x-python",
   "name": "python",
   "nbconvert_exporter": "python",
   "pygments_lexer": "ipython3",
   "version": "3.12.9"
  }
 },
 "nbformat": 4,
 "nbformat_minor": 5
}
